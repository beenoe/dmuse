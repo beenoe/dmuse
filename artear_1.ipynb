{
 "cells": [
  {
   "cell_type": "markdown",
   "metadata": {
    "collapsed": true,
    "pycharm": {
     "name": "#%% md\n"
    }
   },
   "source": [
    "ARTEAR 2021.11"
   ]
  },
  {
   "cell_type": "code",
   "execution_count": 2,
   "outputs": [
    {
     "name": "stdout",
     "output_type": "stream",
     "text": [
      "(4096, 2)\n"
     ]
    }
   ],
   "source": [
    "import time\n",
    "import ctcsound\n",
    "import sounddevice as sd\n",
    "\n",
    "# Defining our Csound ORC code within a triple-quoted, multiline String\n",
    "orc = \"\"\"\n",
    "sr=44100\n",
    "ksmps=64\n",
    "nchnls=2\n",
    "0dbfs=1\n",
    "\n",
    "\n",
    "\n",
    "instr 1\n",
    "a1 oscil 10000, 440, 1\n",
    "outs a1, a1\n",
    "endin\n",
    "instr 2\n",
    "a1 oscil 10000, 440, 2\n",
    "outs a1, a1\n",
    "endin\"\"\"\n",
    "\n",
    "\n",
    "# Defining our Csound SCO code\n",
    "sco = \"\"\"\n",
    "f1 0 1024 10 1 ; Sine\n",
    "f2 0 1024 10 1 0 0.3 0 0.2 0 0.14 0 .111 ; Square\n",
    "f3 0 1024 10 1 0.5 0.3 0.25 0.2 0.167 0.14 0.125 .111 ; Saw\n",
    "\n",
    "i1 0 2\n",
    "i2 2 2\"\"\"\n",
    "\n",
    "c = ctcsound.Csound()\n",
    "c.setOption(\"-odac\")  # Using SetOption() to configure Csound\n",
    "# Note: use only one commandline flag at a time\n",
    "\n",
    "c.compileOrc(orc)     # Compile the Csound Orchestra string\n",
    "c.readScore(sco)      # Compile the Csound SCO String\n",
    "c.start()             # When compiling from strings, this call is necessary\n",
    "# before doing any performing\n",
    "c.perform()           # Run Csound to completion\n",
    "# c.stop()\n",
    "buff = c.outputBuffer().reshape(-1, 2)\n",
    "c.setOutput()\n",
    "#sd.play(buff, 44100)\n",
    "print(buff.shape)\n",
    "c.reset()"
   ],
   "metadata": {
    "collapsed": false,
    "pycharm": {
     "name": "#%%\n"
    }
   }
  }
 ],
 "metadata": {
  "kernelspec": {
   "display_name": "Python 3",
   "language": "python",
   "name": "python3"
  },
  "language_info": {
   "codemirror_mode": {
    "name": "ipython",
    "version": 2
   },
   "file_extension": ".py",
   "mimetype": "text/x-python",
   "name": "python",
   "nbconvert_exporter": "python",
   "pygments_lexer": "ipython2",
   "version": "2.7.6"
  }
 },
 "nbformat": 4,
 "nbformat_minor": 0
}